{
 "cells": [
  {
   "cell_type": "markdown",
   "id": "85e5c84b",
   "metadata": {},
   "source": [
    "# INTRODUCTION TO PYTON\n",
    "##\n",
    "\n",
    "\n",
    "\n",
    "###### introduction to pyton\n"
   ]
  },
  {
   "cell_type": "code",
   "execution_count": 4,
   "id": "01cc2896",
   "metadata": {},
   "outputs": [
    {
     "name": "stdout",
     "output_type": "stream",
     "text": [
      "hello world!, i am learning to code in pyton\n"
     ]
    }
   ],
   "source": [
    "# writting my first pyton code\n",
    "print(\"hello world!, i am learning to code in pyton\")"
   ]
  },
  {
   "cell_type": "markdown",
   "id": "5e5a8704",
   "metadata": {},
   "source": [
    "# variable and identifier in pyton\n",
    "variable is any object that occupy space on computer memory,\n",
    "while identifier is used to identify variable store on computer memory"
   ]
  },
  {
   "cell_type": "code",
   "execution_count": 12,
   "id": "c312823d",
   "metadata": {},
   "outputs": [],
   "source": [
    "name = \"olaitan\""
   ]
  },
  {
   "cell_type": "code",
   "execution_count": 13,
   "id": "a7ca3b73",
   "metadata": {},
   "outputs": [
    {
     "name": "stdout",
     "output_type": "stream",
     "text": [
      "olaitan\n"
     ]
    }
   ],
   "source": [
    "print(name)"
   ]
  },
  {
   "cell_type": "code",
   "execution_count": null,
   "id": "c61b4695",
   "metadata": {},
   "outputs": [],
   "source": [
    "# Rules for naming identifier/variable\n",
    "1. variable name cant not start with a number, thou,number can be find in any other place\n",
    "2. any special characters can not be use in variable name,except underscore\n",
    "3. wide space can not be used to join variable names,use under score instend\n",
    "4. variable need to be discriptive\n",
    "5. the pyton reserverd keywords can not be use as variable name"
   ]
  },
  {
   "cell_type": "code",
   "execution_count": 14,
   "id": "32f356f6",
   "metadata": {},
   "outputs": [
    {
     "name": "stdout",
     "output_type": "stream",
     "text": [
      "my name is  olatunde shele and i am 12 years old from lagos state\n"
     ]
    }
   ],
   "source": [
    "first_name = \"olatunde\"\n",
    "last_name = \"shele\"\n",
    "age = 12\n",
    "state = \"lagos state\"\n",
    "print(\"my name is \", first_name, last_name,\"and i am\", age, \"years old\", \"from\", state)"
   ]
  },
  {
   "cell_type": "code",
   "execution_count": 15,
   "id": "d4441a14",
   "metadata": {
    "scrolled": true
   },
   "outputs": [
    {
     "name": "stdout",
     "output_type": "stream",
     "text": [
      " please enter your first name olatunde\n",
      " please enter your last name shele\n",
      " what is your current age 12\n",
      " what state are you fromlagos state\n",
      "my name is  olatunde shele and i am 12 years old from lagos state\n"
     ]
    }
   ],
   "source": [
    "first_name = input(\" please enter your first name \")\n",
    "last_name = input(\" please enter your last name \")\n",
    "age = input(\" what is your current age \")\n",
    "state = input (\" what state are you from\")\n",
    "print(\"my name is \", first_name, last_name,\"and i am\", age, \"years old\", \"from\", state)"
   ]
  },
  {
   "cell_type": "code",
   "execution_count": null,
   "id": "5bea8982",
   "metadata": {},
   "outputs": [],
   "source": []
  },
  {
   "cell_type": "code",
   "execution_count": null,
   "id": "09a4b392",
   "metadata": {},
   "outputs": [],
   "source": [
    "# take two numbers from a user then sum up the numbers\n",
    "num1 = int (input (\"enter the first number   \")  )\n",
    "num2 = int (input (\"enter the second number  \")  )\n",
    "total = num1 + num2\n",
    "print(\"the sum of number entered is \", total)"
   ]
  },
  {
   "cell_type": "code",
   "execution_count": null,
   "id": "64c7b91e",
   "metadata": {},
   "outputs": [],
   "source": [
    "# Addition\n",
    "\n",
    "a = 2\n",
    "b = 3\n",
    "c = a+b\n",
    "print(c) "
   ]
  },
  {
   "cell_type": "code",
   "execution_count": null,
   "id": "34816902",
   "metadata": {},
   "outputs": [],
   "source": [
    "# subtraction (-)\n",
    "\n",
    "a = 7\n",
    "b = 3\n",
    "c = a\n"
   ]
  },
  {
   "cell_type": "code",
   "execution_count": null,
   "id": "b6532d19",
   "metadata": {},
   "outputs": [],
   "source": []
  },
  {
   "cell_type": "code",
   "execution_count": null,
   "id": "b31d0bd3",
   "metadata": {},
   "outputs": [],
   "source": []
  },
  {
   "cell_type": "code",
   "execution_count": 1,
   "id": "524e4fea",
   "metadata": {
    "scrolled": false
   },
   "outputs": [
    {
     "data": {
      "text/plain": [
       "False"
      ]
     },
     "execution_count": 1,
     "metadata": {},
     "output_type": "execute_result"
    }
   ],
   "source": [
    "# logical\n",
    "#0r / and\n",
    "(2 > 5) and (7 < 10)"
   ]
  },
  {
   "cell_type": "code",
   "execution_count": null,
   "id": "e1041b85",
   "metadata": {},
   "outputs": [],
   "source": [
    "1 (2 > 5) and (7 < 10)"
   ]
  },
  {
   "cell_type": "code",
   "execution_count": null,
   "id": "924209ad",
   "metadata": {},
   "outputs": [],
   "source": []
  },
  {
   "cell_type": "raw",
   "id": "1807a7f4",
   "metadata": {},
   "source": [
    "DATATYPE IN PYTHON\n",
    "\n",
    "immutable: can not be modify after declearation\n",
    "-number\n",
    "- str\n",
    "- tuple\n",
    "\n",
    "mutable:this are data that can be modify after declaration\n",
    "-list\n",
    "-set\n",
    "- dictionary\n"
   ]
  },
  {
   "cell_type": "code",
   "execution_count": null,
   "id": "89a63862",
   "metadata": {},
   "outputs": [],
   "source": [
    "1 num1 = 928 # this is int\n",
    "num2 = 398.739 # this is float\n",
    "num3  = 8 + 7j # this is  complex"
   ]
  },
  {
   "cell_type": "code",
   "execution_count": null,
   "id": "69a1de28",
   "metadata": {},
   "outputs": [],
   "source": [
    "name = \"olaitan\"\n",
    "name = 'olaitan'\n",
    "name = \"\"\"you mu\"\"\""
   ]
  },
  {
   "cell_type": "code",
   "execution_count": null,
   "id": "ec3e19f6",
   "metadata": {},
   "outputs": [],
   "source": []
  },
  {
   "cell_type": "code",
   "execution_count": null,
   "id": "0c8aef85",
   "metadata": {},
   "outputs": [],
   "source": []
  },
  {
   "cell_type": "raw",
   "id": "66f81c53",
   "metadata": {},
   "source": []
  },
  {
   "cell_type": "code",
   "execution_count": null,
   "id": "81645f28",
   "metadata": {
    "collapsed": true
   },
   "outputs": [],
   "source": [
    "indexing this a process of getting access to character in astring\n",
    "slicing this is the process of getting access to character with a string\n",
    "\n"
   ]
  },
  {
   "cell_type": "code",
   "execution_count": 2,
   "id": "d94785c0",
   "metadata": {},
   "outputs": [
    {
     "data": {
      "text/plain": [
       "'o'"
      ]
     },
     "execution_count": 2,
     "metadata": {},
     "output_type": "execute_result"
    }
   ],
   "source": [
    "#return 0 from olaitan\n",
    "name = \"olaitan\"\n",
    "name[0] # forward indexing"
   ]
  },
  {
   "cell_type": "code",
   "execution_count": null,
   "id": "89c54823",
   "metadata": {},
   "outputs": [],
   "source": [
    "1 name [-7] # backward indexing"
   ]
  },
  {
   "cell_type": "code",
   "execution_count": 3,
   "id": "b1af4a63",
   "metadata": {},
   "outputs": [
    {
     "data": {
      "text/plain": [
       "'i'"
      ]
     },
     "execution_count": 3,
     "metadata": {},
     "output_type": "execute_result"
    }
   ],
   "source": [
    "name = \"olaitan\"\n",
    "name[3]"
   ]
  },
  {
   "cell_type": "code",
   "execution_count": 4,
   "id": "51c56763",
   "metadata": {},
   "outputs": [
    {
     "data": {
      "text/plain": [
       "'t'"
      ]
     },
     "execution_count": 4,
     "metadata": {},
     "output_type": "execute_result"
    }
   ],
   "source": [
    "name = \"olaitan\"\n",
    "name[-3]"
   ]
  },
  {
   "cell_type": "code",
   "execution_count": null,
   "id": "bb53cb38",
   "metadata": {},
   "outputs": [],
   "source": []
  },
  {
   "cell_type": "markdown",
   "id": "a47a6614",
   "metadata": {},
   "source": []
  },
  {
   "cell_type": "markdown",
   "id": "9c702dec",
   "metadata": {},
   "source": []
  },
  {
   "cell_type": "code",
   "execution_count": 6,
   "id": "7fed7a5a",
   "metadata": {},
   "outputs": [
    {
     "data": {
      "text/plain": [
       "'ai'"
      ]
     },
     "execution_count": 6,
     "metadata": {},
     "output_type": "execute_result"
    }
   ],
   "source": [
    "name = \"olaitan\"\n",
    "# return \"ai\" from the above\n",
    "name[2:4]\n"
   ]
  },
  {
   "cell_type": "code",
   "execution_count": 15,
   "id": "20c55fde",
   "metadata": {},
   "outputs": [
    {
     "data": {
      "text/plain": [
       "'fun'"
      ]
     },
     "execution_count": 15,
     "metadata": {},
     "output_type": "execute_result"
    }
   ],
   "source": [
    "\n",
    "\n",
    "#return 'fun' in str below\n",
    "\n",
    "info = \"python is fun to learn\"\n",
    "info[10:13]\n",
    "\n"
   ]
  },
  {
   "cell_type": "code",
   "execution_count": null,
   "id": "0232d76d",
   "metadata": {},
   "outputs": [],
   "source": [
    "info name\"python is fun to learn\"\n",
    "info[10:13]"
   ]
  },
  {
   "cell_type": "code",
   "execution_count": 16,
   "id": "d1603a9b",
   "metadata": {},
   "outputs": [
    {
     "data": {
      "text/plain": [
       "'ph  no'"
      ]
     },
     "execution_count": 16,
     "metadata": {},
     "output_type": "execute_result"
    }
   ],
   "source": [
    "# return # \"ph no\"\n",
    "info [0:16:3]\n",
    "     "
   ]
  },
  {
   "cell_type": "code",
   "execution_count": 14,
   "id": "e0c8aa11",
   "metadata": {},
   "outputs": [
    {
     "ename": "NameError",
     "evalue": "name 'x' is not defined",
     "output_type": "error",
     "traceback": [
      "\u001b[1;31m---------------------------------------------------------------------------\u001b[0m",
      "\u001b[1;31mNameError\u001b[0m                                 Traceback (most recent call last)",
      "\u001b[1;32m~\\AppData\\Local\\Temp\\ipykernel_6588\\32546335.py\u001b[0m in \u001b[0;36m<module>\u001b[1;34m\u001b[0m\n\u001b[1;32m----> 1\u001b[1;33m \u001b[0mx\u001b[0m\u001b[1;33m\u001b[0m\u001b[1;33m\u001b[0m\u001b[0m\n\u001b[0m",
      "\u001b[1;31mNameError\u001b[0m: name 'x' is not defined"
     ]
    }
   ],
   "source": [
    "x"
   ]
  },
  {
   "cell_type": "code",
   "execution_count": 4,
   "id": "baa88c9e",
   "metadata": {},
   "outputs": [
    {
     "ename": "NameError",
     "evalue": "name 'x' is not defined",
     "output_type": "error",
     "traceback": [
      "\u001b[1;31m---------------------------------------------------------------------------\u001b[0m",
      "\u001b[1;31mNameError\u001b[0m                                 Traceback (most recent call last)",
      "\u001b[1;32m~\\AppData\\Local\\Temp\\ipykernel_6588\\3618968493.py\u001b[0m in \u001b[0;36m<module>\u001b[1;34m\u001b[0m\n\u001b[1;32m----> 1\u001b[1;33m \u001b[0mx\u001b[0m\u001b[1;33m\u001b[0m\u001b[1;33m\u001b[0m\u001b[0m\n\u001b[0m",
      "\u001b[1;31mNameError\u001b[0m: name 'x' is not defined"
     ]
    }
   ],
   "source": [
    "\n"
   ]
  },
  {
   "cell_type": "markdown",
   "id": "bdcf806e",
   "metadata": {},
   "source": [
    "    # tuple"
   ]
  },
  {
   "cell_type": "code",
   "execution_count": null,
   "id": "c54fcd5d",
   "metadata": {},
   "outputs": [],
   "source": [
    "# tuple\n",
    "tup = () # empty tuple"
   ]
  },
  {
   "cell_type": "code",
   "execution_count": 10,
   "id": "2a9ec122",
   "metadata": {},
   "outputs": [
    {
     "data": {
      "text/plain": [
       "'ola'"
      ]
     },
     "execution_count": 10,
     "metadata": {},
     "output_type": "execute_result"
    }
   ],
   "source": [
    "tup1 = (1,5,8, \"ola\",\"james\", \"lion\")\n",
    "tup1[3]"
   ]
  },
  {
   "cell_type": "code",
   "execution_count": 15,
   "id": "a8fa7b5b",
   "metadata": {},
   "outputs": [
    {
     "data": {
      "text/plain": [
       "(5, 8, 'ola', 'james')"
      ]
     },
     "execution_count": 15,
     "metadata": {},
     "output_type": "execute_result"
    }
   ],
   "source": [
    "tup1[1:5] index counting start from 0\n",
    "            position counting start from 1"
   ]
  },
  {
   "cell_type": "markdown",
   "id": "b28e0fb8",
   "metadata": {},
   "source": [
    "# set in python"
   ]
  },
  {
   "cell_type": "code",
   "execution_count": 19,
   "id": "cf6834b1",
   "metadata": {},
   "outputs": [
    {
     "name": "stdout",
     "output_type": "stream",
     "text": [
      "{2, 5, 7}\n"
     ]
    }
   ],
   "source": [
    "# set\n",
    "set1 = {} # an empty set\n",
    "set2 = {2,5,7,2}\n",
    "print(set2) set does not accept 2 duplicate number"
   ]
  },
  {
   "cell_type": "markdown",
   "id": "d2bc62f8",
   "metadata": {},
   "source": [
    "# dictionary: it has key and value peer reletionship"
   ]
  },
  {
   "cell_type": "code",
   "execution_count": 23,
   "id": "c3c8e628",
   "metadata": {},
   "outputs": [
    {
     "name": "stdout",
     "output_type": "stream",
     "text": [
      "{'name': 'olitan', 'age': 12, 'address': 'olowoira'}\n"
     ]
    }
   ],
   "source": [
    "# dictionary\n",
    "dic = {\"name\": \"olitan\", \"age\":12, \"address\": \"olowoira\"} \n",
    "print(dic)"
   ]
  },
  {
   "cell_type": "code",
   "execution_count": 25,
   "id": "833161ec",
   "metadata": {},
   "outputs": [
    {
     "data": {
      "text/plain": [
       "'olowoira'"
      ]
     },
     "execution_count": 25,
     "metadata": {},
     "output_type": "execute_result"
    }
   ],
   "source": [
    "# print olowoira from the dictionary above\n",
    "dic[\"address\"]"
   ]
  },
  {
   "cell_type": "code",
   "execution_count": null,
   "id": "50dfb923",
   "metadata": {},
   "outputs": [],
   "source": [
    "# adding new element to dictionary\n",
    "dic[\"salary\"]= 83938\n",
    "print(dic)"
   ]
  },
  {
   "cell_type": "markdown",
   "id": "ef08a4f2",
   "metadata": {},
   "source": [
    "# removing element from dictionary\n",
    "\n",
    "dic.pop(\"age\")\n"
   ]
  },
  {
   "cell_type": "code",
   "execution_count": 38,
   "id": "057f4388",
   "metadata": {},
   "outputs": [
    {
     "ename": "KeyError",
     "evalue": "'age'",
     "output_type": "error",
     "traceback": [
      "\u001b[1;31m---------------------------------------------------------------------------\u001b[0m",
      "\u001b[1;31mKeyError\u001b[0m                                  Traceback (most recent call last)",
      "\u001b[1;32m~\\AppData\\Local\\Temp\\ipykernel_6588\\3663666352.py\u001b[0m in \u001b[0;36m<module>\u001b[1;34m\u001b[0m\n\u001b[1;32m----> 1\u001b[1;33m \u001b[0mdic\u001b[0m\u001b[1;33m.\u001b[0m\u001b[0mpop\u001b[0m\u001b[1;33m(\u001b[0m\u001b[1;34m\"age\"\u001b[0m\u001b[1;33m)\u001b[0m\u001b[1;33m\u001b[0m\u001b[1;33m\u001b[0m\u001b[0m\n\u001b[0m",
      "\u001b[1;31mKeyError\u001b[0m: 'age'"
     ]
    }
   ],
   "source": [
    "dic.pop(\"age\")"
   ]
  },
  {
   "cell_type": "markdown",
   "id": "445d1fa8",
   "metadata": {},
   "source": [
    "# dictionary of list"
   ]
  },
  {
   "cell_type": "code",
   "execution_count": 40,
   "id": "7d3d2e91",
   "metadata": {},
   "outputs": [
    {
     "name": "stdout",
     "output_type": "stream",
     "text": [
      "{'name': ['olaitan', 'james', 'sacho', 'onana'], 'age': [12, 33, 71, 23], 'address': ['olowoira', 'berger', 'ikeja', 'ikorodu']}\n"
     ]
    }
   ],
   "source": [
    "dic = {\"name\":[\"olaitan\", \"james\", \"sacho\", \"onana\"],\n",
    "       \"age\":[12, 33, 71, 23],\n",
    "       \"address\": [\"olowoira\", \"berger\", \"ikeja\", \"ikorodu\"]}\n",
    "print(dic)"
   ]
  },
  {
   "cell_type": "markdown",
   "id": "d4b1e660",
   "metadata": {},
   "source": [
    "# change berger to arepo\n"
   ]
  },
  {
   "cell_type": "code",
   "execution_count": 50,
   "id": "10c092a9",
   "metadata": {},
   "outputs": [
    {
     "name": "stdout",
     "output_type": "stream",
     "text": [
      "{'name': ['olaitan', 'james', 'sacho', 'onana'], 'age': [12, 33, 71, 23], 'address': ['olowoira', 'arepo', 'ikeja', 'ikorodu']}\n"
     ]
    }
   ],
   "source": [
    "dic [\"address\"][1]=\"arepo\"\n",
    "print(dic) check the index of berger which is 1"
   ]
  },
  {
   "cell_type": "markdown",
   "id": "54b8aa26",
   "metadata": {},
   "source": [
    "# control flow in python\n",
    "control code is order at which python code is been executed\n",
    "\n",
    "1. conditional statement\n",
    "    a. if:this will check for a condition, if the condition is met,any thing u have in the block of \"if\" will be excuted else  nothing will be done.\n",
    "    b. else:else is bassically use if \"if\" condition is not met\n",
    "    c. elif:it is use to state condition\n",
    "2.  loop statement\n",
    "    a. for:it is use to iterate over iteratable element\n",
    "    b. while:\n",
    "3.  loop control statement\n",
    "    a. break\n",
    "    b. countinue\n",
    "4.  Error handling\n",
    "    a. try\n",
    "    b. except\n",
    "    c. finally"
   ]
  },
  {
   "cell_type": "code",
   "execution_count": null,
   "id": "fc374239",
   "metadata": {},
   "outputs": [],
   "source": []
  },
  {
   "cell_type": "code",
   "execution_count": 51,
   "id": "eb449412",
   "metadata": {},
   "outputs": [
    {
     "name": "stdout",
     "output_type": "stream",
     "text": [
      "we are good to go\n",
      "what is your nameola\n",
      "will you like i generate nickname from your name\n"
     ]
    }
   ],
   "source": [
    "a = 3\n",
    "if a<9:\n",
    "    print(\"we are good to go\")\n",
    "    name = input(\"what is your name\")\n",
    "    print(\"will you like i generate nickname from your name\")"
   ]
  },
  {
   "cell_type": "code",
   "execution_count": 52,
   "id": "24fd827b",
   "metadata": {},
   "outputs": [
    {
     "name": "stdout",
     "output_type": "stream",
     "text": [
      "some set of people must have gone!!!\n",
      "since the condition is not met, the sum is {} 17\n"
     ]
    }
   ],
   "source": [
    "a = 33\n",
    "if a<9:\n",
    "    print(\"we are good to go\")\n",
    "    name = input(\"what is your name\")\n",
    "    print(\"will you like i generate nickname from your name\")\n",
    "else:\n",
    "    print(\"some set of people must have gone!!!\")\n",
    "    y = 7\n",
    "    u = 10\n",
    "    total = y + u\n",
    "    print(\"since the condition is not met, the sum is {}\", format(total))\n",
    "    "
   ]
  },
  {
   "cell_type": "code",
   "execution_count": 53,
   "id": "e2377604",
   "metadata": {},
   "outputs": [
    {
     "name": "stdout",
     "output_type": "stream",
     "text": [
      "we are in the block of if\n"
     ]
    }
   ],
   "source": [
    "w = 10\n",
    "if w>5:\n",
    "    print(\"we are in the block of if\")\n",
    "\n",
    "elif w==10:\n",
    "    print(\"we are in the block of elif\")\n",
    "    \n",
    "else:\n",
    "    print(\"we are in the block of else\")"
   ]
  },
  {
   "cell_type": "code",
   "execution_count": 54,
   "id": "b9f45f96",
   "metadata": {},
   "outputs": [
    {
     "name": "stdout",
     "output_type": "stream",
     "text": [
      "o\n",
      "l\n",
      "a\n",
      "i\n",
      "t\n",
      "a\n",
      "n\n"
     ]
    }
   ],
   "source": [
    "# for loop\n",
    "name = \"olaitan\"\n",
    "for i in name:\n",
    "    print(i)"
   ]
  },
  {
   "cell_type": "code",
   "execution_count": 59,
   "id": "9c9647b4",
   "metadata": {},
   "outputs": [],
   "source": [
    "all_population = [1,2,3,4,5,6,7,8,9,10,11,12,13,14,15,16,17,18,19,20]\n",
    "\n",
    "odd_population = []\n",
    "even_population = []\n",
    "for j in all_population:\n",
    "    if j%2==0:\n",
    "        even_population.append(j)\n",
    "    else:\n",
    "        odd_population.append(j)"
   ]
  },
  {
   "cell_type": "code",
   "execution_count": 61,
   "id": "188fdc20",
   "metadata": {},
   "outputs": [
    {
     "data": {
      "text/plain": [
       "[1, 3, 5, 7, 9, 11, 13, 15, 17, 19]"
      ]
     },
     "execution_count": 61,
     "metadata": {},
     "output_type": "execute_result"
    }
   ],
   "source": [
    "odd_population"
   ]
  },
  {
   "cell_type": "code",
   "execution_count": 62,
   "id": "09425eb8",
   "metadata": {},
   "outputs": [
    {
     "data": {
      "text/plain": [
       "[2, 4, 6, 8, 10, 12, 14, 16, 18, 20]"
      ]
     },
     "execution_count": 62,
     "metadata": {},
     "output_type": "execute_result"
    }
   ],
   "source": [
    "even_population"
   ]
  },
  {
   "cell_type": "code",
   "execution_count": 68,
   "id": "d7e43b6d",
   "metadata": {},
   "outputs": [
    {
     "name": "stdout",
     "output_type": "stream",
     "text": [
      "inside while loop 0 time\n",
      "inside while loop 1 time\n",
      "inside while loop 2 time\n",
      "inside while loop 3 time\n",
      "inside while loop 4 time\n",
      "inside while loop 5 time\n",
      "inside while loop 6 time\n",
      "inside while loop 7 time\n"
     ]
    }
   ],
   "source": [
    "a = 0\n",
    "while a<=7:\n",
    "        print(\"inside while loop {} time\".format(a))\n",
    "        a+=1                                                        this is while loop"
   ]
  },
  {
   "cell_type": "code",
   "execution_count": null,
   "id": "efa5d9c4",
   "metadata": {},
   "outputs": [
    {
     "name": "stdout",
     "output_type": "stream",
     "text": [
      "we are good\n",
      "we are good\n",
      "we are good\n",
      "we are good\n",
      "we are good\n"
     ]
    }
   ],
   "source": [
    "t = 4\n",
    "while True:\n",
    "    if t<=8:\n",
    "        print(\"we are good\")\n",
    "        t+=1"
   ]
  },
  {
   "cell_type": "markdown",
   "id": "040a4e8a",
   "metadata": {},
   "source": [
    "# loop control system break"
   ]
  },
  {
   "cell_type": "code",
   "execution_count": 9,
   "id": "fe79e3a1",
   "metadata": {},
   "outputs": [],
   "source": [
    "all_population = [1,2,3,4,5,6,7,8,9,10,11,12,13,14,15,16,17,18,19,20]\n",
    "\n",
    "odd_population = []\n",
    "even_population = []\n",
    "for j in all_population:\n",
    "    if j==12:\n",
    "        break\n",
    "    if j%2==0:\n",
    "        even_population.append(j)\n",
    "    else:\n",
    "        odd_population.append(j)"
   ]
  },
  {
   "cell_type": "markdown",
   "id": "1f8a6e45",
   "metadata": {},
   "source": [
    "odd_population"
   ]
  },
  {
   "cell_type": "code",
   "execution_count": 11,
   "id": "0288bb7c",
   "metadata": {},
   "outputs": [
    {
     "data": {
      "text/plain": [
       "[2, 4, 6, 8, 10]"
      ]
     },
     "execution_count": 11,
     "metadata": {},
     "output_type": "execute_result"
    }
   ],
   "source": [
    "even_population"
   ]
  },
  {
   "cell_type": "markdown",
   "id": "9b12d90f",
   "metadata": {},
   "source": [
    "# coutinue: this will skip when the condition is met, itrate to the end of itratable element"
   ]
  },
  {
   "cell_type": "code",
   "execution_count": 12,
   "id": "bb59c712",
   "metadata": {},
   "outputs": [
    {
     "name": "stdout",
     "output_type": "stream",
     "text": [
      "[1, 3, 5, 7, 9, 11, 13, 15, 17, 19]\n",
      "[2, 4, 6, 8, 10, 14, 16, 18, 20]\n"
     ]
    }
   ],
   "source": [
    "all_population = [1,2,3,4,5,6,7,8,9,10,11,12,13,14,15,16,17,18,19,20]\n",
    "\n",
    "odd_population = []\n",
    "even_population = []\n",
    "for j in all_population:\n",
    "    if j==12:\n",
    "        continue # skip element in the list equal to 12\n",
    "    if j%2==0:\n",
    "        even_population.append(j)\n",
    "    else:\n",
    "        odd_population.append(j)\n",
    "print(odd_population)\n",
    "print(even_population)"
   ]
  },
  {
   "cell_type": "markdown",
   "id": "fdfc4320",
   "metadata": {},
   "source": [
    "# Error handling statement\n"
   ]
  },
  {
   "cell_type": "code",
   "execution_count": 13,
   "id": "5ba68f63",
   "metadata": {},
   "outputs": [
    {
     "ename": "IndexError",
     "evalue": "list index out of range",
     "output_type": "error",
     "traceback": [
      "\u001b[1;31m---------------------------------------------------------------------------\u001b[0m",
      "\u001b[1;31mIndexError\u001b[0m                                Traceback (most recent call last)",
      "\u001b[1;32m~\\AppData\\Local\\Temp\\ipykernel_6208\\2340958946.py\u001b[0m in \u001b[0;36m<module>\u001b[1;34m\u001b[0m\n\u001b[0;32m      1\u001b[0m \u001b[0my\u001b[0m \u001b[1;33m=\u001b[0m \u001b[1;33m[\u001b[0m\u001b[1;36m12\u001b[0m\u001b[1;33m,\u001b[0m\u001b[1;36m3\u001b[0m\u001b[1;33m,\u001b[0m\u001b[1;36m6\u001b[0m\u001b[1;33m,\u001b[0m\u001b[1;36m7\u001b[0m\u001b[1;33m]\u001b[0m\u001b[1;33m\u001b[0m\u001b[1;33m\u001b[0m\u001b[0m\n\u001b[1;32m----> 2\u001b[1;33m \u001b[0mprint\u001b[0m\u001b[1;33m(\u001b[0m\u001b[1;34m\"element at index 5 is \"\u001b[0m\u001b[1;33m,\u001b[0m \u001b[0my\u001b[0m\u001b[1;33m[\u001b[0m\u001b[1;36m5\u001b[0m\u001b[1;33m]\u001b[0m\u001b[1;33m)\u001b[0m\u001b[1;33m\u001b[0m\u001b[1;33m\u001b[0m\u001b[0m\n\u001b[0m\u001b[0;32m      3\u001b[0m \u001b[0mprint\u001b[0m\u001b[1;33m(\u001b[0m\u001b[1;34m\"well, we are at error handling in python\"\u001b[0m\u001b[1;33m)\u001b[0m\u001b[1;33m\u001b[0m\u001b[1;33m\u001b[0m\u001b[0m\n",
      "\u001b[1;31mIndexError\u001b[0m: list index out of range"
     ]
    }
   ],
   "source": [
    "y = [12,3,6,7]\n",
    "print(\"element at index 5 is \", y[5])\n",
    "print(\"well, we are at error handling in python\") itwill give error message"
   ]
  },
  {
   "cell_type": "code",
   "execution_count": 14,
   "id": "9342ad79",
   "metadata": {},
   "outputs": [
    {
     "name": "stdout",
     "output_type": "stream",
     "text": [
      "no element of index is 5\n",
      "well, we are at error handling in pyton\n"
     ]
    }
   ],
   "source": [
    "y = [12,3,6,7]\n",
    "try:\n",
    "    print(\"element at index 5 is \", y[5])\n",
    "    print(\"well, we are at error handling in python\")\n",
    "except:\n",
    "    print(\"no element of index is 5\")\n",
    "    print(\"well, we are at error handling in pyton\")\n",
    "finally:\n",
    "    print(\"bingo!!!\")\n"
   ]
  },
  {
   "cell_type": "markdown",
   "id": "4e8b836f",
   "metadata": {},
   "source": [
    "# finally block is always executed"
   ]
  },
  {
   "cell_type": "markdown",
   "id": "cea088a4",
   "metadata": {},
   "source": [
    "# FUNCTION"
   ]
  },
  {
   "cell_type": "code",
   "execution_count": null,
   "id": "7ca2e63e",
   "metadata": {},
   "outputs": [],
   "source": [
    "# function is a group of a statement under a define name to perform a specific task"
   ]
  },
  {
   "cell_type": "code",
   "execution_count": 52,
   "id": "453c9249",
   "metadata": {},
   "outputs": [],
   "source": [
    "def ola():\n",
    "    year = int(input(\"enter the year\"))\n",
    "    if (year%4==0 and year%100!=0) or (year%400==0 and year%100!=0):\n",
    "        print(\"leap year\")\n",
    "    else:\n",
    "        print(\"not leap year\")\n",
    "    "
   ]
  },
  {
   "cell_type": "code",
   "execution_count": 53,
   "id": "ee2f51c9",
   "metadata": {},
   "outputs": [
    {
     "name": "stdout",
     "output_type": "stream",
     "text": [
      "enter the year7779\n",
      "not leap year\n"
     ]
    }
   ],
   "source": [
    "ola()"
   ]
  },
  {
   "cell_type": "code",
   "execution_count": 16,
   "id": "9d748365",
   "metadata": {},
   "outputs": [],
   "source": [
    "def greeting(): # non parameter\n",
    "    print(\"hello everyone, are you all set for the journey??\")"
   ]
  },
  {
   "cell_type": "code",
   "execution_count": 17,
   "id": "34ca039f",
   "metadata": {},
   "outputs": [
    {
     "name": "stdout",
     "output_type": "stream",
     "text": [
      "hello everyone, are you all set for the journey??\n"
     ]
    }
   ],
   "source": [
    "greeting()"
   ]
  },
  {
   "cell_type": "code",
   "execution_count": 21,
   "id": "4d68484c",
   "metadata": {},
   "outputs": [],
   "source": [
    "def add_two_number(w,o):\n",
    "    total = w+o\n",
    "    return total\n",
    "\n"
   ]
  },
  {
   "cell_type": "code",
   "execution_count": 23,
   "id": "9fdf9b87",
   "metadata": {},
   "outputs": [
    {
     "data": {
      "text/plain": [
       "17"
      ]
     },
     "execution_count": 23,
     "metadata": {},
     "output_type": "execute_result"
    }
   ],
   "source": [
    "add_two_number(10, 7)"
   ]
  },
  {
   "cell_type": "code",
   "execution_count": 37,
   "id": "2ad57177",
   "metadata": {},
   "outputs": [],
   "source": [
    "def min_to_second(m):\n",
    "    in_sec = m * 60\n",
    "    return in_sec\n"
   ]
  },
  {
   "cell_type": "code",
   "execution_count": 38,
   "id": "cdd87fe4",
   "metadata": {},
   "outputs": [
    {
     "data": {
      "text/plain": [
       "120"
      ]
     },
     "execution_count": 38,
     "metadata": {},
     "output_type": "execute_result"
    }
   ],
   "source": [
    "min_to_second(2)"
   ]
  },
  {
   "cell_type": "markdown",
   "id": "9faa7cb4",
   "metadata": {},
   "source": [
    "# ANNONYMUS FUNCTION\n",
    "lamda is a fuction "
   ]
  },
  {
   "cell_type": "markdown",
   "id": "3347e320",
   "metadata": {},
   "source": [
    "# lambda"
   ]
  },
  {
   "cell_type": "code",
   "execution_count": 54,
   "id": "01b97447",
   "metadata": {},
   "outputs": [
    {
     "data": {
      "text/plain": [
       "240"
      ]
     },
     "execution_count": 54,
     "metadata": {},
     "output_type": "execute_result"
    }
   ],
   "source": [
    "#\n",
    "sec = lambda mins : mins * 60\n",
    "sec(4)"
   ]
  },
  {
   "cell_type": "code",
   "execution_count": 32,
   "id": "d19ab390",
   "metadata": {},
   "outputs": [],
   "source": [
    "# fuction to multiply three number\n",
    "y = lambda w, i, m : w * i * m"
   ]
  },
  {
   "cell_type": "code",
   "execution_count": 33,
   "id": "15a91fd4",
   "metadata": {},
   "outputs": [
    {
     "data": {
      "text/plain": [
       "80"
      ]
     },
     "execution_count": 33,
     "metadata": {},
     "output_type": "execute_result"
    }
   ],
   "source": [
    "y(2, 5, 8)"
   ]
  },
  {
   "cell_type": "code",
   "execution_count": null,
   "id": "69c4f634",
   "metadata": {},
   "outputs": [],
   "source": [
    "write a lambda fuction that will calculate area of triangle "
   ]
  },
  {
   "cell_type": "code",
   "execution_count": 50,
   "id": "522050f0",
   "metadata": {},
   "outputs": [],
   "source": [
    "w = lambda base,height: 0.5 * base * height"
   ]
  },
  {
   "cell_type": "code",
   "execution_count": 51,
   "id": "badacf7a",
   "metadata": {},
   "outputs": [
    {
     "data": {
      "text/plain": [
       "5.0"
      ]
     },
     "execution_count": 51,
     "metadata": {},
     "output_type": "execute_result"
    }
   ],
   "source": [
    "w(2, 5)"
   ]
  },
  {
   "cell_type": "code",
   "execution_count": 1,
   "id": "a4c1d1dc",
   "metadata": {},
   "outputs": [
    {
     "ename": "KeyboardInterrupt",
     "evalue": "Interrupted by user",
     "output_type": "error",
     "traceback": [
      "\u001b[1;31m---------------------------------------------------------------------------\u001b[0m",
      "\u001b[1;31mKeyboardInterrupt\u001b[0m                         Traceback (most recent call last)",
      "\u001b[1;32m~\\AppData\\Local\\Temp\\ipykernel_11328\\3450109875.py\u001b[0m in \u001b[0;36m<module>\u001b[1;34m\u001b[0m\n\u001b[0;32m      6\u001b[0m \u001b[1;32mwhile\u001b[0m \u001b[1;32mTrue\u001b[0m\u001b[1;33m:\u001b[0m\u001b[1;33m\u001b[0m\u001b[1;33m\u001b[0m\u001b[0m\n\u001b[0;32m      7\u001b[0m     \u001b[1;32mif\u001b[0m \u001b[0mnumber_voter\u001b[0m\u001b[1;33m<=\u001b[0m\u001b[1;36m14\u001b[0m\u001b[1;33m:\u001b[0m\u001b[1;33m\u001b[0m\u001b[1;33m\u001b[0m\u001b[0m\n\u001b[1;32m----> 8\u001b[1;33m         \u001b[0mvote\u001b[0m \u001b[1;33m=\u001b[0m \u001b[0minput\u001b[0m\u001b[1;33m(\u001b[0m\u001b[1;34m\"cast your vote\"\u001b[0m\u001b[1;33m)\u001b[0m\u001b[1;33m.\u001b[0m\u001b[0mupper\u001b[0m\u001b[1;33m(\u001b[0m\u001b[1;33m)\u001b[0m\u001b[1;33m\u001b[0m\u001b[1;33m\u001b[0m\u001b[0m\n\u001b[0m\u001b[0;32m      9\u001b[0m         \u001b[1;32mif\u001b[0m \u001b[0mvote\u001b[0m\u001b[1;33m==\u001b[0m\u001b[1;34m\"A\"\u001b[0m\u001b[1;33m:\u001b[0m\u001b[1;33m\u001b[0m\u001b[1;33m\u001b[0m\u001b[0m\n\u001b[0;32m     10\u001b[0m             \u001b[0ma\u001b[0m\u001b[1;33m.\u001b[0m\u001b[0mappend\u001b[0m\u001b[1;33m(\u001b[0m\u001b[0mvote\u001b[0m\u001b[1;33m)\u001b[0m\u001b[1;33m\u001b[0m\u001b[1;33m\u001b[0m\u001b[0m\n",
      "\u001b[1;32m~\\anaconda3\\lib\\site-packages\\ipykernel\\kernelbase.py\u001b[0m in \u001b[0;36mraw_input\u001b[1;34m(self, prompt)\u001b[0m\n\u001b[0;32m   1175\u001b[0m                 \u001b[1;34m\"raw_input was called, but this frontend does not support input requests.\"\u001b[0m\u001b[1;33m\u001b[0m\u001b[1;33m\u001b[0m\u001b[0m\n\u001b[0;32m   1176\u001b[0m             )\n\u001b[1;32m-> 1177\u001b[1;33m         return self._input_request(\n\u001b[0m\u001b[0;32m   1178\u001b[0m             \u001b[0mstr\u001b[0m\u001b[1;33m(\u001b[0m\u001b[0mprompt\u001b[0m\u001b[1;33m)\u001b[0m\u001b[1;33m,\u001b[0m\u001b[1;33m\u001b[0m\u001b[1;33m\u001b[0m\u001b[0m\n\u001b[0;32m   1179\u001b[0m             \u001b[0mself\u001b[0m\u001b[1;33m.\u001b[0m\u001b[0m_parent_ident\u001b[0m\u001b[1;33m[\u001b[0m\u001b[1;34m\"shell\"\u001b[0m\u001b[1;33m]\u001b[0m\u001b[1;33m,\u001b[0m\u001b[1;33m\u001b[0m\u001b[1;33m\u001b[0m\u001b[0m\n",
      "\u001b[1;32m~\\anaconda3\\lib\\site-packages\\ipykernel\\kernelbase.py\u001b[0m in \u001b[0;36m_input_request\u001b[1;34m(self, prompt, ident, parent, password)\u001b[0m\n\u001b[0;32m   1217\u001b[0m             \u001b[1;32mexcept\u001b[0m \u001b[0mKeyboardInterrupt\u001b[0m\u001b[1;33m:\u001b[0m\u001b[1;33m\u001b[0m\u001b[1;33m\u001b[0m\u001b[0m\n\u001b[0;32m   1218\u001b[0m                 \u001b[1;31m# re-raise KeyboardInterrupt, to truncate traceback\u001b[0m\u001b[1;33m\u001b[0m\u001b[1;33m\u001b[0m\u001b[0m\n\u001b[1;32m-> 1219\u001b[1;33m                 \u001b[1;32mraise\u001b[0m \u001b[0mKeyboardInterrupt\u001b[0m\u001b[1;33m(\u001b[0m\u001b[1;34m\"Interrupted by user\"\u001b[0m\u001b[1;33m)\u001b[0m \u001b[1;32mfrom\u001b[0m \u001b[1;32mNone\u001b[0m\u001b[1;33m\u001b[0m\u001b[1;33m\u001b[0m\u001b[0m\n\u001b[0m\u001b[0;32m   1220\u001b[0m             \u001b[1;32mexcept\u001b[0m \u001b[0mException\u001b[0m\u001b[1;33m:\u001b[0m\u001b[1;33m\u001b[0m\u001b[1;33m\u001b[0m\u001b[0m\n\u001b[0;32m   1221\u001b[0m                 \u001b[0mself\u001b[0m\u001b[1;33m.\u001b[0m\u001b[0mlog\u001b[0m\u001b[1;33m.\u001b[0m\u001b[0mwarning\u001b[0m\u001b[1;33m(\u001b[0m\u001b[1;34m\"Invalid Message:\"\u001b[0m\u001b[1;33m,\u001b[0m \u001b[0mexc_info\u001b[0m\u001b[1;33m=\u001b[0m\u001b[1;32mTrue\u001b[0m\u001b[1;33m)\u001b[0m\u001b[1;33m\u001b[0m\u001b[1;33m\u001b[0m\u001b[0m\n",
      "\u001b[1;31mKeyboardInterrupt\u001b[0m: Interrupted by user"
     ]
    }
   ],
   "source": [
    "A = []\n",
    "B = []\n",
    "C = []\n",
    "void =[]\n",
    "number_voter = 0\n",
    "while True:\n",
    "    if number_voter<=14:\n",
    "        vote = input(\"cast your vote\").upper()\n",
    "        if vote==\"A\":\n",
    "            a.append(vote)\n",
    "        elif vote == \"B\":\n",
    "            b.append(vote)\n",
    "        elif vote == \"C\":\n",
    "            c.append(vote)\n",
    "        else:\n",
    "            void.append(vote)\n",
    "        number_voter+=1\n",
    "\n"
   ]
  },
  {
   "cell_type": "markdown",
   "id": "d7dc8709",
   "metadata": {},
   "source": [
    "# OBJECT ORIENTED PROGRAMMING\n",
    "THIS IS  PARADIN USE TO ORGANISE CODE INTO OBJECT FOR USABLE AND EASY ACCESS"
   ]
  },
  {
   "cell_type": "code",
   "execution_count": 16,
   "id": "424d57ed",
   "metadata": {},
   "outputs": [],
   "source": [
    "class Human:\n",
    "    def __init__(self, first_name, last_name, age):\n",
    "        self.first_name = first_name\n",
    "        self.last_name = last_name\n",
    "        self.age = age\n",
    "        \n",
    "        \n",
    "        \n",
    "    def greeting(self):\n",
    "        print(f\"my is {self.first_name} {self.last_name} and am greeting everyone here\")\n",
    "        \n",
    "        \n",
    "    def eat(self):\n",
    "        print(\"i can eat any type of food\")"
   ]
  },
  {
   "cell_type": "code",
   "execution_count": 17,
   "id": "c39ff837",
   "metadata": {},
   "outputs": [],
   "source": [
    "first_human = Human(\"olatunde\", \"farid\", 12)"
   ]
  },
  {
   "cell_type": "code",
   "execution_count": null,
   "id": "bdcd79d5",
   "metadata": {},
   "outputs": [],
   "source": [
    "# let the first_human greet people\n",
    "first_human.greeting()"
   ]
  },
  {
   "cell_type": "code",
   "execution_count": 19,
   "id": "e128367f",
   "metadata": {},
   "outputs": [
    {
     "name": "stdout",
     "output_type": "stream",
     "text": [
      "i can eat any type of food\n"
     ]
    }
   ],
   "source": [
    "first_human.eat()"
   ]
  },
  {
   "cell_type": "markdown",
   "id": "44504610",
   "metadata": {},
   "source": [
    "# inheritance"
   ]
  },
  {
   "cell_type": "code",
   "execution_count": 25,
   "id": "061a5012",
   "metadata": {},
   "outputs": [],
   "source": [
    "class childhuman(Human):\n",
    "    def __init__(self, first_name, last_name, age, gender):\n",
    "        super().__init__(first_name, last_name, age)\n",
    "        self.gender = gender\n",
    "        \n",
    "    def gender_check(self):\n",
    "        if self.gender== \"male\":\n",
    "            print(\"i am a man!!!\")\n",
    "        else:\n",
    "            print(\"i will wait to comfirm my attributes \")\n",
    "        "
   ]
  },
  {
   "cell_type": "code",
   "execution_count": 26,
   "id": "296ffedd",
   "metadata": {},
   "outputs": [],
   "source": [
    "first_child = childhuman(\"ayan\", \"sheleru\", 12, \"male\")\n"
   ]
  },
  {
   "cell_type": "code",
   "execution_count": 27,
   "id": "97ce9277",
   "metadata": {},
   "outputs": [
    {
     "name": "stdout",
     "output_type": "stream",
     "text": [
      "i am a man!!!\n"
     ]
    }
   ],
   "source": [
    "first_child.gender_check()"
   ]
  },
  {
   "cell_type": "code",
   "execution_count": null,
   "id": "61b1c58a",
   "metadata": {},
   "outputs": [],
   "source": []
  },
  {
   "cell_type": "code",
   "execution_count": 77,
   "id": "03c729cd",
   "metadata": {},
   "outputs": [],
   "source": [
    "class CarOperation:\n",
    "    def __init__(self, maker, model, year):\n",
    "        self.maker = maker\n",
    "        self.model = model\n",
    "        self.year  = year\n",
    "        self.engine_on = False\n",
    "        self.speed = 0\n",
    "        \n",
    "    def engine_start(self):\n",
    "        if self.engine_on == False:\n",
    "            print(f\"{self.maker} {self.model} {self.year} started!!!\")\n",
    "            self.engine_on = True\n",
    "        else:\n",
    "            print(f\"{self.maker} {self.model} {self.year} already started!!!\")\n",
    "    \n",
    "    def engine_off(self):\n",
    "        if self.engine_on == True:\n",
    "            print(f\"{self.maker} {self.model} {self.year} off!!!\")\n",
    "            self.engine_on = False\n",
    "                  \n",
    "        else:\n",
    "            print(f\"{self.maker} {self.model} {self.year} already off!!!\")\n",
    "            \n",
    "    def accelerate(self, acceleration):\n",
    "        if self.engine_on == True:\n",
    "            self.speed+= acceleration\n",
    "            print(f\"{self.maker} {self.model} {self.year} accelerating at {self.speed} km/hr\")\n",
    "            if self.speed>80:\n",
    "                print(\"you need to decelerate at this speed\")\n",
    "            else:\n",
    "                print(\"still within the speed limit\")\n",
    "                \n",
    "        else:\n",
    "            print(\"you need to start the engine before accelerating\")\n",
    "            \n",
    "    def decelerate(self, deceleration):\n",
    "            if self.speed>0:\n",
    "                self.speed -= deceleration\n",
    "                print(f\"{self.maker} {self.model} {self.year} decelerate at {self.speed} km/hr\")\n",
    "            \n",
    "            else:\n",
    "                 print(\"the car needs to be on speed before decelerating\")\n",
    "            \n",
    "        \n",
    "                  "
   ]
  },
  {
   "cell_type": "code",
   "execution_count": 78,
   "id": "9fb7bce2",
   "metadata": {},
   "outputs": [
    {
     "name": "stdout",
     "output_type": "stream",
     "text": [
      "toyota camery 2023 started!!!\n"
     ]
    }
   ],
   "source": [
    "car1 = CarOperation(\"toyota\", \"camery\", 2023)\n",
    "car1.engine_start()"
   ]
  },
  {
   "cell_type": "code",
   "execution_count": 79,
   "id": "5a4e6166",
   "metadata": {},
   "outputs": [
    {
     "name": "stdout",
     "output_type": "stream",
     "text": [
      "toyota camery 2023 already started!!!\n"
     ]
    }
   ],
   "source": [
    "car1.engine_start()"
   ]
  },
  {
   "cell_type": "code",
   "execution_count": 80,
   "id": "c308fb0a",
   "metadata": {},
   "outputs": [
    {
     "name": "stdout",
     "output_type": "stream",
     "text": [
      "toyota camery 2023 off!!!\n"
     ]
    }
   ],
   "source": [
    "car1.engine_off()"
   ]
  },
  {
   "cell_type": "code",
   "execution_count": 81,
   "id": "6d55faa7",
   "metadata": {},
   "outputs": [
    {
     "name": "stdout",
     "output_type": "stream",
     "text": [
      "toyota camery 2023 already off!!!\n"
     ]
    }
   ],
   "source": [
    "car1.engine_off()"
   ]
  },
  {
   "cell_type": "code",
   "execution_count": 82,
   "id": "423bc397",
   "metadata": {},
   "outputs": [
    {
     "name": "stdout",
     "output_type": "stream",
     "text": [
      "you need to start the engine before accelerating\n"
     ]
    }
   ],
   "source": [
    "car1.accelerate(20)"
   ]
  },
  {
   "cell_type": "code",
   "execution_count": 83,
   "id": "ac75e544",
   "metadata": {},
   "outputs": [
    {
     "name": "stdout",
     "output_type": "stream",
     "text": [
      "the car needs to be on speed before decelerating\n"
     ]
    }
   ],
   "source": [
    "car1.decelerate(80)"
   ]
  },
  {
   "cell_type": "code",
   "execution_count": null,
   "id": "bfbdd300",
   "metadata": {},
   "outputs": [],
   "source": []
  },
  {
   "cell_type": "code",
   "execution_count": null,
   "id": "a7839e7f",
   "metadata": {},
   "outputs": [],
   "source": []
  },
  {
   "cell_type": "code",
   "execution_count": null,
   "id": "58dfa084",
   "metadata": {},
   "outputs": [],
   "source": []
  },
  {
   "cell_type": "code",
   "execution_count": null,
   "id": "fdc8e422",
   "metadata": {},
   "outputs": [],
   "source": []
  },
  {
   "cell_type": "code",
   "execution_count": null,
   "id": "abf7ac86",
   "metadata": {},
   "outputs": [],
   "source": []
  },
  {
   "cell_type": "code",
   "execution_count": null,
   "id": "542a6936",
   "metadata": {},
   "outputs": [],
   "source": []
  },
  {
   "cell_type": "code",
   "execution_count": null,
   "id": "48f3ad0a",
   "metadata": {},
   "outputs": [],
   "source": []
  },
  {
   "cell_type": "code",
   "execution_count": null,
   "id": "db85fcdc",
   "metadata": {},
   "outputs": [],
   "source": []
  },
  {
   "cell_type": "code",
   "execution_count": null,
   "id": "acbbafee",
   "metadata": {},
   "outputs": [],
   "source": []
  },
  {
   "cell_type": "code",
   "execution_count": null,
   "id": "45a4f454",
   "metadata": {},
   "outputs": [],
   "source": []
  },
  {
   "cell_type": "code",
   "execution_count": null,
   "id": "d3212a5b",
   "metadata": {},
   "outputs": [],
   "source": []
  },
  {
   "cell_type": "code",
   "execution_count": null,
   "id": "ff423d54",
   "metadata": {},
   "outputs": [],
   "source": []
  },
  {
   "cell_type": "code",
   "execution_count": null,
   "id": "8de621e1",
   "metadata": {},
   "outputs": [],
   "source": []
  },
  {
   "cell_type": "code",
   "execution_count": null,
   "id": "13e0ed90",
   "metadata": {},
   "outputs": [],
   "source": []
  }
 ],
 "metadata": {
  "kernelspec": {
   "display_name": "Python 3 (ipykernel)",
   "language": "python",
   "name": "python3"
  },
  "language_info": {
   "codemirror_mode": {
    "name": "ipython",
    "version": 3
   },
   "file_extension": ".py",
   "mimetype": "text/x-python",
   "name": "python",
   "nbconvert_exporter": "python",
   "pygments_lexer": "ipython3",
   "version": "3.9.13"
  }
 },
 "nbformat": 4,
 "nbformat_minor": 5
}
