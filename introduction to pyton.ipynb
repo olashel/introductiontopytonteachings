{
 "cells": [
  {
   "cell_type": "markdown",
   "id": "c762d8c8",
   "metadata": {},
   "source": [
    "# INTRODUCTION TO PYTON\n",
    "##\n",
    "\n",
    "\n",
    "\n",
    "###### introduction to pyton\n"
   ]
  },
  {
   "cell_type": "code",
   "execution_count": 4,
   "id": "4b34fb01",
   "metadata": {},
   "outputs": [
    {
     "name": "stdout",
     "output_type": "stream",
     "text": [
      "hello world!, i am learning to code in pyton\n"
     ]
    }
   ],
   "source": [
    "# writting my first pyton code\n",
    "print(\"hello world!, i am learning to code in pyton\")"
   ]
  },
  {
   "cell_type": "markdown",
   "id": "be450c6f",
   "metadata": {},
   "source": [
    "# variable and identifier in pyton\n",
    "variable is any object that occupy space on computer memory,\n",
    "while identifier is used to identify variable store on computer memory"
   ]
  },
  {
   "cell_type": "code",
   "execution_count": 12,
   "id": "2d18f4ee",
   "metadata": {},
   "outputs": [],
   "source": [
    "name = \"olaitan\""
   ]
  },
  {
   "cell_type": "code",
   "execution_count": 13,
   "id": "a8df1025",
   "metadata": {},
   "outputs": [
    {
     "name": "stdout",
     "output_type": "stream",
     "text": [
      "olaitan\n"
     ]
    }
   ],
   "source": [
    "print(name)"
   ]
  },
  {
   "cell_type": "code",
   "execution_count": null,
   "id": "aa0d4057",
   "metadata": {},
   "outputs": [],
   "source": [
    "# Rules for naming identifier/variable\n",
    "1. variable name cant not start with a number, thou,number can be find in any other place\n",
    "2. any special characters can not be use in variable name,except underscore\n",
    "3. wide space can not be used to join variable names,use under score instend\n",
    "4. variable need to be discriptive\n",
    "5. the pyton reserverd keywords can not be use as variable name"
   ]
  },
  {
   "cell_type": "code",
   "execution_count": 14,
   "id": "256086c7",
   "metadata": {},
   "outputs": [
    {
     "name": "stdout",
     "output_type": "stream",
     "text": [
      "my name is  olatunde shele and i am 12 years old from lagos state\n"
     ]
    }
   ],
   "source": [
    "first_name = \"olatunde\"\n",
    "last_name = \"shele\"\n",
    "age = 12\n",
    "state = \"lagos state\"\n",
    "print(\"my name is \", first_name, last_name,\"and i am\", age, \"years old\", \"from\", state)"
   ]
  },
  {
   "cell_type": "code",
   "execution_count": 15,
   "id": "5c89d485",
   "metadata": {
    "scrolled": true
   },
   "outputs": [
    {
     "name": "stdout",
     "output_type": "stream",
     "text": [
      " please enter your first name olatunde\n",
      " please enter your last name shele\n",
      " what is your current age 12\n",
      " what state are you fromlagos state\n",
      "my name is  olatunde shele and i am 12 years old from lagos state\n"
     ]
    }
   ],
   "source": [
    "first_name = input(\" please enter your first name \")\n",
    "last_name = input(\" please enter your last name \")\n",
    "age = input(\" what is your current age \")\n",
    "state = input (\" what state are you from\")\n",
    "print(\"my name is \", first_name, last_name,\"and i am\", age, \"years old\", \"from\", state)"
   ]
  },
  {
   "cell_type": "code",
   "execution_count": null,
   "id": "87f0deb3",
   "metadata": {},
   "outputs": [],
   "source": []
  },
  {
   "cell_type": "code",
   "execution_count": null,
   "id": "df74bf7c",
   "metadata": {},
   "outputs": [],
   "source": [
    "# take two numbers from a user then sum up the numbers\n",
    "num1 = int (input (\"enter the first number   \")  )\n",
    "num2 = int (input (\"enter the second number  \")  )\n",
    "total = num1 + num2\n",
    "print(\"the sum of number entered is \", total)"
   ]
  },
  {
   "cell_type": "code",
   "execution_count": null,
   "id": "0c25a7ba",
   "metadata": {},
   "outputs": [],
   "source": []
  },
  {
   "cell_type": "code",
   "execution_count": null,
   "id": "452def5d",
   "metadata": {},
   "outputs": [],
   "source": []
  },
  {
   "cell_type": "code",
   "execution_count": null,
   "id": "623120c8",
   "metadata": {},
   "outputs": [],
   "source": []
  },
  {
   "cell_type": "code",
   "execution_count": null,
   "id": "d707a4e8",
   "metadata": {
    "scrolled": false
   },
   "outputs": [],
   "source": []
  }
 ],
 "metadata": {
  "kernelspec": {
   "display_name": "Python 3 (ipykernel)",
   "language": "python",
   "name": "python3"
  },
  "language_info": {
   "codemirror_mode": {
    "name": "ipython",
    "version": 3
   },
   "file_extension": ".py",
   "mimetype": "text/x-python",
   "name": "python",
   "nbconvert_exporter": "python",
   "pygments_lexer": "ipython3",
   "version": "3.9.13"
  }
 },
 "nbformat": 4,
 "nbformat_minor": 5
}
