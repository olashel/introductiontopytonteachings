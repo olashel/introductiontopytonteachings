{
 "cells": [
  {
   "cell_type": "markdown",
   "id": "81f96a34",
   "metadata": {},
   "source": [
    "# INTRODUCTION TO PYTON\n",
    "##\n",
    "\n",
    "\n",
    "\n",
    "###### introduction to pyton\n"
   ]
  },
  {
   "cell_type": "code",
   "execution_count": 4,
   "id": "795cd6e9",
   "metadata": {},
   "outputs": [
    {
     "name": "stdout",
     "output_type": "stream",
     "text": [
      "hello world!, i am learning to code in pyton\n"
     ]
    }
   ],
   "source": [
    "# writting my first pyton code\n",
    "print(\"hello world!, i am learning to code in pyton\")"
   ]
  },
  {
   "cell_type": "markdown",
   "id": "2a44bd28",
   "metadata": {},
   "source": [
    "# variable and identifier in pyton\n",
    "variable is any object that occupy space on computer memory,\n",
    "while identifier is used to identify variable store on computer memory"
   ]
  },
  {
   "cell_type": "code",
   "execution_count": 12,
   "id": "2cc99ea0",
   "metadata": {},
   "outputs": [],
   "source": [
    "name = \"olaitan\""
   ]
  },
  {
   "cell_type": "code",
   "execution_count": 13,
   "id": "062f5d72",
   "metadata": {},
   "outputs": [
    {
     "name": "stdout",
     "output_type": "stream",
     "text": [
      "olaitan\n"
     ]
    }
   ],
   "source": [
    "print(name)"
   ]
  },
  {
   "cell_type": "code",
   "execution_count": null,
   "id": "b6700eb4",
   "metadata": {},
   "outputs": [],
   "source": [
    "# Rules for naming identifier/variable\n",
    "1. variable name cant not start with a number, thou,number can be find in any other place\n",
    "2. any special characters can not be use in variable name,except underscore\n",
    "3. wide space can not be used to join variable names,use under score instend\n",
    "4. variable need to be discriptive\n",
    "5. the pyton reserverd keywords can not be use as variable name"
   ]
  },
  {
   "cell_type": "code",
   "execution_count": null,
   "id": "fa8f3d85",
   "metadata": {},
   "outputs": [],
   "source": []
  },
  {
   "cell_type": "code",
   "execution_count": null,
   "id": "84a285dc",
   "metadata": {},
   "outputs": [],
   "source": []
  },
  {
   "cell_type": "code",
   "execution_count": null,
   "id": "6f06c24a",
   "metadata": {},
   "outputs": [],
   "source": []
  },
  {
   "cell_type": "code",
   "execution_count": null,
   "id": "01f53af7",
   "metadata": {},
   "outputs": [],
   "source": []
  },
  {
   "cell_type": "code",
   "execution_count": null,
   "id": "b319f187",
   "metadata": {},
   "outputs": [],
   "source": []
  },
  {
   "cell_type": "code",
   "execution_count": null,
   "id": "081d5cb6",
   "metadata": {},
   "outputs": [],
   "source": []
  },
  {
   "cell_type": "code",
   "execution_count": null,
   "id": "f04c3505",
   "metadata": {},
   "outputs": [],
   "source": []
  },
  {
   "cell_type": "code",
   "execution_count": null,
   "id": "1fbe5d0f",
   "metadata": {},
   "outputs": [],
   "source": []
  },
  {
   "cell_type": "code",
   "execution_count": null,
   "id": "4a212982",
   "metadata": {},
   "outputs": [],
   "source": []
  },
  {
   "cell_type": "code",
   "execution_count": null,
   "id": "7aefe193",
   "metadata": {
    "scrolled": false
   },
   "outputs": [],
   "source": []
  }
 ],
 "metadata": {
  "kernelspec": {
   "display_name": "Python 3 (ipykernel)",
   "language": "python",
   "name": "python3"
  },
  "language_info": {
   "codemirror_mode": {
    "name": "ipython",
    "version": 3
   },
   "file_extension": ".py",
   "mimetype": "text/x-python",
   "name": "python",
   "nbconvert_exporter": "python",
   "pygments_lexer": "ipython3",
   "version": "3.9.13"
  }
 },
 "nbformat": 4,
 "nbformat_minor": 5
}
