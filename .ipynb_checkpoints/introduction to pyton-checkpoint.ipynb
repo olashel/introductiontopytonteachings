{
 "cells": [
  {
   "cell_type": "markdown",
   "id": "85e5c84b",
   "metadata": {},
   "source": [
    "# INTRODUCTION TO PYTON\n",
    "##\n",
    "\n",
    "\n",
    "\n",
    "###### introduction to pyton\n"
   ]
  },
  {
   "cell_type": "code",
   "execution_count": 4,
   "id": "01cc2896",
   "metadata": {},
   "outputs": [
    {
     "name": "stdout",
     "output_type": "stream",
     "text": [
      "hello world!, i am learning to code in pyton\n"
     ]
    }
   ],
   "source": [
    "# writting my first pyton code\n",
    "print(\"hello world!, i am learning to code in pyton\")"
   ]
  },
  {
   "cell_type": "markdown",
   "id": "5e5a8704",
   "metadata": {},
   "source": [
    "# variable and identifier in pyton\n",
    "variable is any object that occupy space on computer memory,\n",
    "while identifier is used to identify variable store on computer memory"
   ]
  },
  {
   "cell_type": "code",
   "execution_count": 12,
   "id": "c312823d",
   "metadata": {},
   "outputs": [],
   "source": [
    "name = \"olaitan\""
   ]
  },
  {
   "cell_type": "code",
   "execution_count": 13,
   "id": "a7ca3b73",
   "metadata": {},
   "outputs": [
    {
     "name": "stdout",
     "output_type": "stream",
     "text": [
      "olaitan\n"
     ]
    }
   ],
   "source": [
    "print(name)"
   ]
  },
  {
   "cell_type": "code",
   "execution_count": null,
   "id": "c61b4695",
   "metadata": {},
   "outputs": [],
   "source": [
    "# Rules for naming identifier/variable\n",
    "1. variable name cant not start with a number, thou,number can be find in any other place\n",
    "2. any special characters can not be use in variable name,except underscore\n",
    "3. wide space can not be used to join variable names,use under score instend\n",
    "4. variable need to be discriptive\n",
    "5. the pyton reserverd keywords can not be use as variable name"
   ]
  },
  {
   "cell_type": "code",
   "execution_count": 14,
   "id": "32f356f6",
   "metadata": {},
   "outputs": [
    {
     "name": "stdout",
     "output_type": "stream",
     "text": [
      "my name is  olatunde shele and i am 12 years old from lagos state\n"
     ]
    }
   ],
   "source": [
    "first_name = \"olatunde\"\n",
    "last_name = \"shele\"\n",
    "age = 12\n",
    "state = \"lagos state\"\n",
    "print(\"my name is \", first_name, last_name,\"and i am\", age, \"years old\", \"from\", state)"
   ]
  },
  {
   "cell_type": "code",
   "execution_count": 15,
   "id": "d4441a14",
   "metadata": {
    "scrolled": true
   },
   "outputs": [
    {
     "name": "stdout",
     "output_type": "stream",
     "text": [
      " please enter your first name olatunde\n",
      " please enter your last name shele\n",
      " what is your current age 12\n",
      " what state are you fromlagos state\n",
      "my name is  olatunde shele and i am 12 years old from lagos state\n"
     ]
    }
   ],
   "source": [
    "first_name = input(\" please enter your first name \")\n",
    "last_name = input(\" please enter your last name \")\n",
    "age = input(\" what is your current age \")\n",
    "state = input (\" what state are you from\")\n",
    "print(\"my name is \", first_name, last_name,\"and i am\", age, \"years old\", \"from\", state)"
   ]
  },
  {
   "cell_type": "code",
   "execution_count": null,
   "id": "5bea8982",
   "metadata": {},
   "outputs": [],
   "source": []
  },
  {
   "cell_type": "code",
   "execution_count": null,
   "id": "09a4b392",
   "metadata": {},
   "outputs": [],
   "source": [
    "# take two numbers from a user then sum up the numbers\n",
    "num1 = int (input (\"enter the first number   \")  )\n",
    "num2 = int (input (\"enter the second number  \")  )\n",
    "total = num1 + num2\n",
    "print(\"the sum of number entered is \", total)"
   ]
  },
  {
   "cell_type": "code",
   "execution_count": null,
   "id": "64c7b91e",
   "metadata": {},
   "outputs": [],
   "source": [
    "# Addition\n",
    "\n",
    "a = 2\n",
    "b = 3\n",
    "c = a+b\n",
    "print(c) "
   ]
  },
  {
   "cell_type": "code",
   "execution_count": null,
   "id": "34816902",
   "metadata": {},
   "outputs": [],
   "source": [
    "# subtraction (-)\n",
    "\n",
    "a = 7\n",
    "b = 3\n",
    "c = a\n"
   ]
  },
  {
   "cell_type": "code",
   "execution_count": null,
   "id": "b6532d19",
   "metadata": {},
   "outputs": [],
   "source": []
  },
  {
   "cell_type": "code",
   "execution_count": null,
   "id": "b31d0bd3",
   "metadata": {},
   "outputs": [],
   "source": []
  },
  {
   "cell_type": "code",
   "execution_count": 1,
   "id": "524e4fea",
   "metadata": {
    "scrolled": false
   },
   "outputs": [
    {
     "data": {
      "text/plain": [
       "False"
      ]
     },
     "execution_count": 1,
     "metadata": {},
     "output_type": "execute_result"
    }
   ],
   "source": [
    "# logical\n",
    "#0r / and\n",
    "(2 > 5) and (7 < 10)"
   ]
  },
  {
   "cell_type": "code",
   "execution_count": null,
   "id": "e1041b85",
   "metadata": {},
   "outputs": [],
   "source": [
    "1 (2 > 5) and (7 < 10)"
   ]
  },
  {
   "cell_type": "code",
   "execution_count": null,
   "id": "924209ad",
   "metadata": {},
   "outputs": [],
   "source": []
  },
  {
   "cell_type": "raw",
   "id": "1807a7f4",
   "metadata": {},
   "source": [
    "DATATYPE IN PYTHON\n",
    "\n",
    "immutable: can not be modify after declearation\n",
    "-number\n",
    "- str\n",
    "- tuple\n",
    "\n",
    "mutable:this are data that can be modify after declaration\n",
    "-list\n",
    "-set\n",
    "- dictionary\n"
   ]
  },
  {
   "cell_type": "code",
   "execution_count": null,
   "id": "89a63862",
   "metadata": {},
   "outputs": [],
   "source": [
    "1 num1 = 928 # this is int\n",
    "num2 = 398.739 # this is float\n",
    "num3  = 8 + 7j # this is  complex"
   ]
  },
  {
   "cell_type": "code",
   "execution_count": null,
   "id": "69a1de28",
   "metadata": {},
   "outputs": [],
   "source": [
    "name = \"olaitan\"\n",
    "name = 'olaitan'\n",
    "name = \"\"\"you mu\"\"\""
   ]
  },
  {
   "cell_type": "code",
   "execution_count": null,
   "id": "ec3e19f6",
   "metadata": {},
   "outputs": [],
   "source": []
  },
  {
   "cell_type": "code",
   "execution_count": null,
   "id": "0c8aef85",
   "metadata": {},
   "outputs": [],
   "source": []
  },
  {
   "cell_type": "raw",
   "id": "66f81c53",
   "metadata": {},
   "source": []
  },
  {
   "cell_type": "code",
   "execution_count": null,
   "id": "81645f28",
   "metadata": {
    "collapsed": true
   },
   "outputs": [],
   "source": [
    "indexing this a process of getting access to character in astring\n",
    "slicing this is the process of getting access to character with a string\n",
    "\n"
   ]
  },
  {
   "cell_type": "code",
   "execution_count": 2,
   "id": "d94785c0",
   "metadata": {},
   "outputs": [
    {
     "data": {
      "text/plain": [
       "'o'"
      ]
     },
     "execution_count": 2,
     "metadata": {},
     "output_type": "execute_result"
    }
   ],
   "source": [
    "#return 0 from olaitan\n",
    "name = \"olaitan\"\n",
    "name[0] # forward indexing"
   ]
  },
  {
   "cell_type": "code",
   "execution_count": null,
   "id": "89c54823",
   "metadata": {},
   "outputs": [],
   "source": [
    "1 name [-7] # backward indexing"
   ]
  },
  {
   "cell_type": "code",
   "execution_count": 3,
   "id": "b1af4a63",
   "metadata": {},
   "outputs": [
    {
     "data": {
      "text/plain": [
       "'i'"
      ]
     },
     "execution_count": 3,
     "metadata": {},
     "output_type": "execute_result"
    }
   ],
   "source": [
    "name = \"olaitan\"\n",
    "name[3]"
   ]
  },
  {
   "cell_type": "code",
   "execution_count": 4,
   "id": "51c56763",
   "metadata": {},
   "outputs": [
    {
     "data": {
      "text/plain": [
       "'t'"
      ]
     },
     "execution_count": 4,
     "metadata": {},
     "output_type": "execute_result"
    }
   ],
   "source": [
    "name = \"olaitan\"\n",
    "name[-3]"
   ]
  },
  {
   "cell_type": "code",
   "execution_count": null,
   "id": "bb53cb38",
   "metadata": {},
   "outputs": [],
   "source": []
  },
  {
   "cell_type": "markdown",
   "id": "a47a6614",
   "metadata": {},
   "source": []
  },
  {
   "cell_type": "markdown",
   "id": "9c702dec",
   "metadata": {},
   "source": []
  },
  {
   "cell_type": "code",
   "execution_count": 6,
   "id": "7fed7a5a",
   "metadata": {},
   "outputs": [
    {
     "data": {
      "text/plain": [
       "'ai'"
      ]
     },
     "execution_count": 6,
     "metadata": {},
     "output_type": "execute_result"
    }
   ],
   "source": [
    "name = \"olaitan\"\n",
    "# return \"ai\" from the above\n",
    "name[2:4]\n"
   ]
  },
  {
   "cell_type": "code",
   "execution_count": 15,
   "id": "20c55fde",
   "metadata": {},
   "outputs": [
    {
     "data": {
      "text/plain": [
       "'fun'"
      ]
     },
     "execution_count": 15,
     "metadata": {},
     "output_type": "execute_result"
    }
   ],
   "source": [
    "\n",
    "\n",
    "#return 'fun' in str below\n",
    "\n",
    "info = \"python is fun to learn\"\n",
    "info[10:13]\n",
    "\n"
   ]
  },
  {
   "cell_type": "code",
   "execution_count": null,
   "id": "0232d76d",
   "metadata": {},
   "outputs": [],
   "source": [
    "info name\"python is fun to learn\"\n",
    "info[10:13]"
   ]
  },
  {
   "cell_type": "code",
   "execution_count": 16,
   "id": "d1603a9b",
   "metadata": {},
   "outputs": [
    {
     "data": {
      "text/plain": [
       "'ph  no'"
      ]
     },
     "execution_count": 16,
     "metadata": {},
     "output_type": "execute_result"
    }
   ],
   "source": [
    "# return # \"ph no\"\n",
    "info [0:16:3]\n",
    "     "
   ]
  },
  {
   "cell_type": "code",
   "execution_count": 14,
   "id": "e0c8aa11",
   "metadata": {},
   "outputs": [
    {
     "ename": "NameError",
     "evalue": "name 'x' is not defined",
     "output_type": "error",
     "traceback": [
      "\u001b[1;31m---------------------------------------------------------------------------\u001b[0m",
      "\u001b[1;31mNameError\u001b[0m                                 Traceback (most recent call last)",
      "\u001b[1;32m~\\AppData\\Local\\Temp\\ipykernel_6588\\32546335.py\u001b[0m in \u001b[0;36m<module>\u001b[1;34m\u001b[0m\n\u001b[1;32m----> 1\u001b[1;33m \u001b[0mx\u001b[0m\u001b[1;33m\u001b[0m\u001b[1;33m\u001b[0m\u001b[0m\n\u001b[0m",
      "\u001b[1;31mNameError\u001b[0m: name 'x' is not defined"
     ]
    }
   ],
   "source": [
    "x"
   ]
  },
  {
   "cell_type": "code",
   "execution_count": 4,
   "id": "baa88c9e",
   "metadata": {},
   "outputs": [
    {
     "ename": "NameError",
     "evalue": "name 'x' is not defined",
     "output_type": "error",
     "traceback": [
      "\u001b[1;31m---------------------------------------------------------------------------\u001b[0m",
      "\u001b[1;31mNameError\u001b[0m                                 Traceback (most recent call last)",
      "\u001b[1;32m~\\AppData\\Local\\Temp\\ipykernel_6588\\3618968493.py\u001b[0m in \u001b[0;36m<module>\u001b[1;34m\u001b[0m\n\u001b[1;32m----> 1\u001b[1;33m \u001b[0mx\u001b[0m\u001b[1;33m\u001b[0m\u001b[1;33m\u001b[0m\u001b[0m\n\u001b[0m",
      "\u001b[1;31mNameError\u001b[0m: name 'x' is not defined"
     ]
    }
   ],
   "source": [
    "\n"
   ]
  },
  {
   "cell_type": "markdown",
   "id": "ffc5f7a3",
   "metadata": {},
   "source": [
    "    # tuple"
   ]
  },
  {
   "cell_type": "code",
   "execution_count": null,
   "id": "11fb95e3",
   "metadata": {},
   "outputs": [],
   "source": [
    "# tuple\n",
    "tup = () # empty tuple"
   ]
  },
  {
   "cell_type": "code",
   "execution_count": 10,
   "id": "a0abef4f",
   "metadata": {},
   "outputs": [
    {
     "data": {
      "text/plain": [
       "'ola'"
      ]
     },
     "execution_count": 10,
     "metadata": {},
     "output_type": "execute_result"
    }
   ],
   "source": [
    "tup1 = (1,5,8, \"ola\",\"james\", \"lion\")\n",
    "tup1[3]"
   ]
  },
  {
   "cell_type": "code",
   "execution_count": 15,
   "id": "212ad091",
   "metadata": {},
   "outputs": [
    {
     "data": {
      "text/plain": [
       "(5, 8, 'ola', 'james')"
      ]
     },
     "execution_count": 15,
     "metadata": {},
     "output_type": "execute_result"
    }
   ],
   "source": [
    "tup1[1:5]"
   ]
  },
  {
   "cell_type": "markdown",
   "id": "082f2170",
   "metadata": {},
   "source": [
    "# set in python"
   ]
  },
  {
   "cell_type": "code",
   "execution_count": 19,
   "id": "4fc3ee1b",
   "metadata": {},
   "outputs": [
    {
     "name": "stdout",
     "output_type": "stream",
     "text": [
      "{2, 5, 7}\n"
     ]
    }
   ],
   "source": [
    "# set\n",
    "set1 = {} # an empty set\n",
    "set2 = {2,5,7,2}\n",
    "print(set2) set does not accept 2 duplicate number"
   ]
  },
  {
   "cell_type": "markdown",
   "id": "a7260fc3",
   "metadata": {},
   "source": [
    "# dictionary: it has key and value peer reletionship"
   ]
  },
  {
   "cell_type": "code",
   "execution_count": 23,
   "id": "5f4f08f3",
   "metadata": {},
   "outputs": [
    {
     "name": "stdout",
     "output_type": "stream",
     "text": [
      "{'name': 'olitan', 'age': 12, 'address': 'olowoira'}\n"
     ]
    }
   ],
   "source": [
    "# dictionary\n",
    "dic = {\"name\": \"olitan\", \"age\":12, \"address\": \"olowoira\"} \n",
    "print(dic)"
   ]
  },
  {
   "cell_type": "code",
   "execution_count": 25,
   "id": "d327ad61",
   "metadata": {},
   "outputs": [
    {
     "data": {
      "text/plain": [
       "'olowoira'"
      ]
     },
     "execution_count": 25,
     "metadata": {},
     "output_type": "execute_result"
    }
   ],
   "source": [
    "# print olowoira from the dictionary above\n",
    "dic[\"address\"]"
   ]
  },
  {
   "cell_type": "code",
   "execution_count": null,
   "id": "b853e95f",
   "metadata": {},
   "outputs": [],
   "source": [
    "# adding new element to dictionary\n",
    "dic[\"salary\"]= 83938\n",
    "print(dic)"
   ]
  },
  {
   "cell_type": "markdown",
   "id": "d1dfdb31",
   "metadata": {},
   "source": [
    "# removing element from dictionary\n",
    "\n",
    "dic.pop(\"age\")\n"
   ]
  },
  {
   "cell_type": "code",
   "execution_count": 38,
   "id": "a5538b7e",
   "metadata": {},
   "outputs": [
    {
     "ename": "KeyError",
     "evalue": "'age'",
     "output_type": "error",
     "traceback": [
      "\u001b[1;31m---------------------------------------------------------------------------\u001b[0m",
      "\u001b[1;31mKeyError\u001b[0m                                  Traceback (most recent call last)",
      "\u001b[1;32m~\\AppData\\Local\\Temp\\ipykernel_6588\\3663666352.py\u001b[0m in \u001b[0;36m<module>\u001b[1;34m\u001b[0m\n\u001b[1;32m----> 1\u001b[1;33m \u001b[0mdic\u001b[0m\u001b[1;33m.\u001b[0m\u001b[0mpop\u001b[0m\u001b[1;33m(\u001b[0m\u001b[1;34m\"age\"\u001b[0m\u001b[1;33m)\u001b[0m\u001b[1;33m\u001b[0m\u001b[1;33m\u001b[0m\u001b[0m\n\u001b[0m",
      "\u001b[1;31mKeyError\u001b[0m: 'age'"
     ]
    }
   ],
   "source": [
    "dic.pop(\"age\")"
   ]
  },
  {
   "cell_type": "markdown",
   "id": "a424baa5",
   "metadata": {},
   "source": [
    "# dictionary of list"
   ]
  },
  {
   "cell_type": "code",
   "execution_count": 40,
   "id": "5b4931e2",
   "metadata": {},
   "outputs": [
    {
     "name": "stdout",
     "output_type": "stream",
     "text": [
      "{'name': ['olaitan', 'james', 'sacho', 'onana'], 'age': [12, 33, 71, 23], 'address': ['olowoira', 'berger', 'ikeja', 'ikorodu']}\n"
     ]
    }
   ],
   "source": [
    "dic = {\"name\":[\"olaitan\", \"james\", \"sacho\", \"onana\"],\n",
    "       \"age\":[12, 33, 71, 23],\n",
    "       \"address\": [\"olowoira\", \"berger\", \"ikeja\", \"ikorodu\"]}\n",
    "print(dic)"
   ]
  },
  {
   "cell_type": "markdown",
   "id": "4dee7799",
   "metadata": {},
   "source": [
    "# change berger to arepo\n"
   ]
  },
  {
   "cell_type": "code",
   "execution_count": 50,
   "id": "a0bdb332",
   "metadata": {},
   "outputs": [
    {
     "name": "stdout",
     "output_type": "stream",
     "text": [
      "{'name': ['olaitan', 'james', 'sacho', 'onana'], 'age': [12, 33, 71, 23], 'address': ['olowoira', 'arepo', 'ikeja', 'ikorodu']}\n"
     ]
    }
   ],
   "source": [
    "dic [\"address\"][1]=\"arepo\"\n",
    "print(dic) check the index of berger which is 1"
   ]
  },
  {
   "cell_type": "markdown",
   "id": "1f3b44bb",
   "metadata": {},
   "source": [
    "# control flow in python\n",
    "control code is order at which python code is been executed\n",
    "\n",
    "1. conditional statement\n",
    "    a. if:this will check for a condition, if the condition is met,any thing u have in the block of \"if\" will be excuted else  nothing will be done.\n",
    "    b. else:else is bassically use if \"if\" condition is not met\n",
    "    c. elif:it is use to state condition\n",
    "2.  loop statement\n",
    "    a. for:it is use to iterate over iteratable element\n",
    "    b. while:\n",
    "3.  loop control statement\n",
    "    a. break\n",
    "    b. countinue\n",
    "4.  Error handling\n",
    "    a. try\n",
    "    b. except\n",
    "    c. finally"
   ]
  },
  {
   "cell_type": "code",
   "execution_count": null,
   "id": "b67b3141",
   "metadata": {},
   "outputs": [],
   "source": []
  },
  {
   "cell_type": "code",
   "execution_count": 51,
   "id": "b14d4a67",
   "metadata": {},
   "outputs": [
    {
     "name": "stdout",
     "output_type": "stream",
     "text": [
      "we are good to go\n",
      "what is your nameola\n",
      "will you like i generate nickname from your name\n"
     ]
    }
   ],
   "source": [
    "a = 3\n",
    "if a<9:\n",
    "    print(\"we are good to go\")\n",
    "    name = input(\"what is your name\")\n",
    "    print(\"will you like i generate nickname from your name\")"
   ]
  },
  {
   "cell_type": "code",
   "execution_count": 52,
   "id": "df8bf20d",
   "metadata": {},
   "outputs": [
    {
     "name": "stdout",
     "output_type": "stream",
     "text": [
      "some set of people must have gone!!!\n",
      "since the condition is not met, the sum is {} 17\n"
     ]
    }
   ],
   "source": [
    "a = 33\n",
    "if a<9:\n",
    "    print(\"we are good to go\")\n",
    "    name = input(\"what is your name\")\n",
    "    print(\"will you like i generate nickname from your name\")\n",
    "else:\n",
    "    print(\"some set of people must have gone!!!\")\n",
    "    y = 7\n",
    "    u = 10\n",
    "    total = y + u\n",
    "    print(\"since the condition is not met, the sum is {}\", format(total))\n",
    "    "
   ]
  },
  {
   "cell_type": "code",
   "execution_count": 53,
   "id": "0d66e783",
   "metadata": {},
   "outputs": [
    {
     "name": "stdout",
     "output_type": "stream",
     "text": [
      "we are in the block of if\n"
     ]
    }
   ],
   "source": [
    "w = 10\n",
    "if w>5:\n",
    "    print(\"we are in the block of if\")\n",
    "\n",
    "elif w==10:\n",
    "    print(\"we are in the block of elif\")\n",
    "    \n",
    "else:\n",
    "    print(\"we are in the block of else\")"
   ]
  },
  {
   "cell_type": "code",
   "execution_count": 54,
   "id": "7ecd9c24",
   "metadata": {},
   "outputs": [
    {
     "name": "stdout",
     "output_type": "stream",
     "text": [
      "o\n",
      "l\n",
      "a\n",
      "i\n",
      "t\n",
      "a\n",
      "n\n"
     ]
    }
   ],
   "source": [
    "# for loop\n",
    "name = \"olaitan\"\n",
    "for i in name:\n",
    "    print(i)"
   ]
  },
  {
   "cell_type": "code",
   "execution_count": 59,
   "id": "22b9ba45",
   "metadata": {},
   "outputs": [],
   "source": [
    "all_population = [1,2,3,4,5,6,7,8,9,10,11,12,13,14,15,16,17,18,19,20]\n",
    "\n",
    "odd_population = []\n",
    "even_population = []\n",
    "for j in all_population:\n",
    "    if j%2==0:\n",
    "        even_population.append(j)\n",
    "    else:\n",
    "        odd_population.append(j)"
   ]
  },
  {
   "cell_type": "code",
   "execution_count": 61,
   "id": "9d906d46",
   "metadata": {},
   "outputs": [
    {
     "data": {
      "text/plain": [
       "[1, 3, 5, 7, 9, 11, 13, 15, 17, 19]"
      ]
     },
     "execution_count": 61,
     "metadata": {},
     "output_type": "execute_result"
    }
   ],
   "source": [
    "odd_population"
   ]
  },
  {
   "cell_type": "code",
   "execution_count": 62,
   "id": "7628161a",
   "metadata": {},
   "outputs": [
    {
     "data": {
      "text/plain": [
       "[2, 4, 6, 8, 10, 12, 14, 16, 18, 20]"
      ]
     },
     "execution_count": 62,
     "metadata": {},
     "output_type": "execute_result"
    }
   ],
   "source": [
    "even_population"
   ]
  },
  {
   "cell_type": "code",
   "execution_count": 68,
   "id": "827a9862",
   "metadata": {},
   "outputs": [
    {
     "name": "stdout",
     "output_type": "stream",
     "text": [
      "inside while loop 0 time\n",
      "inside while loop 1 time\n",
      "inside while loop 2 time\n",
      "inside while loop 3 time\n",
      "inside while loop 4 time\n",
      "inside while loop 5 time\n",
      "inside while loop 6 time\n",
      "inside while loop 7 time\n"
     ]
    }
   ],
   "source": [
    "a = 0\n",
    "while a<=7:\n",
    "        print(\"inside while loop {} time\".format(a))\n",
    "        a+=1                                                        this is while loop"
   ]
  },
  {
   "cell_type": "code",
   "execution_count": null,
   "id": "c4f82f1f",
   "metadata": {},
   "outputs": [
    {
     "name": "stdout",
     "output_type": "stream",
     "text": [
      "we are good\n",
      "we are good\n",
      "we are good\n",
      "we are good\n",
      "we are good\n"
     ]
    }
   ],
   "source": [
    "t = 4\n",
    "while True:\n",
    "    if t<=8:\n",
    "        print(\"we are good\")\n",
    "        t+=1"
   ]
  },
  {
   "cell_type": "code",
   "execution_count": null,
   "id": "c026663e",
   "metadata": {},
   "outputs": [],
   "source": []
  },
  {
   "cell_type": "code",
   "execution_count": null,
   "id": "0c84937d",
   "metadata": {},
   "outputs": [],
   "source": []
  },
  {
   "cell_type": "code",
   "execution_count": null,
   "id": "b7fab4a1",
   "metadata": {},
   "outputs": [],
   "source": []
  },
  {
   "cell_type": "code",
   "execution_count": null,
   "id": "4411fd03",
   "metadata": {},
   "outputs": [],
   "source": []
  },
  {
   "cell_type": "code",
   "execution_count": null,
   "id": "5dbb1d76",
   "metadata": {},
   "outputs": [],
   "source": []
  }
 ],
 "metadata": {
  "kernelspec": {
   "display_name": "Python 3 (ipykernel)",
   "language": "python",
   "name": "python3"
  },
  "language_info": {
   "codemirror_mode": {
    "name": "ipython",
    "version": 3
   },
   "file_extension": ".py",
   "mimetype": "text/x-python",
   "name": "python",
   "nbconvert_exporter": "python",
   "pygments_lexer": "ipython3",
   "version": "3.9.13"
  }
 },
 "nbformat": 4,
 "nbformat_minor": 5
}
